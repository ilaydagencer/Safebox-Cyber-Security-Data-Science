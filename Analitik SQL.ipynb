{
 "cells": [
  {
   "cell_type": "markdown",
   "id": "cf5ec697",
   "metadata": {},
   "source": [
    "Analitik SQL, veri analizi ve raporlama için kullanılan SQL (Structured Query Language) sorgularının bir alt kümesidir. Analitik SQL, karmaşık sorgular oluşturmanıza ve büyük veri kümeleri üzerinde derinlemesine analizler yapmanıza olanak tanır.\n",
    "Bir analitik SQL sorgusu, genellikle analiz yapmak için birden fazla tabloyu birleştiren ve gruplama, sıralama, toplama ve filtreleme gibi operasyonları içeren karmaşık sorguları ifade eder. Bu sorgular, büyük veri kümelerini işlemek ve daha anlamlı bilgiler elde etmek için kullanılır."
   ]
  },
  {
   "attachments": {},
   "cell_type": "markdown",
   "id": "adec33d9",
   "metadata": {},
   "source": [
    "RANK() ve DENSE_RANK()\n",
    "Sıra numarası atayabilmek için ROW_NUMBER() dışında RANK() ve DENSE_RANK() fonksiyonlarını da kullanabiliriz. Ancak aradaki farkı açıklayabilmek için aşağıdaki gibi bir örnek hazırladım.\n",
    "\n"
   ]
  },
  {
   "cell_type": "code",
   "execution_count": null,
   "id": "51eca5d1",
   "metadata": {},
   "outputs": [],
   "source": [
    "WITH Gold as(SELECT\n",
    "            Year,\n",
    "            Country,\n",
    "            Event,\n",
    "            Medal,\n",
    "            Athlete\n",
    "    FROM Summer_Medals\n",
    "    WHERE Year IN(1996,2000,2004,2008)\n",
    "            AND gender='Women'\n",
    "            AND Event IN('100M Freestyle'))\n",
    "SELECT\n",
    "Year,\n",
    "Event,\n",
    "Country,\n",
    "Medal,\n",
    "Athlete,\n",
    "ROW_NUMBER() OVER(Order By Year,Event,medal ASC) Row_Number,\n",
    "RANK() OVER (Order By Year,Event,medal ASC) AS Rank,\n",
    "DENSE_RANK() OVER (Order By Year,Event,medal ASC) AS  Dense_Rank\n",
    "FROM Gold\n",
    "ORDER BY Year,Event,medal;"
   ]
  },
  {
   "cell_type": "markdown",
   "id": "21e1f176",
   "metadata": {},
   "source": [
    "2000 yılında USA takımında iki kişinin Bronze madalya aldığı satır ve sonrasında Rank ve Dense_Rank değerlerinin farklılaştığı görülmektedir.\n",
    "\n",
    "Rank fonksiyonu Order By sonrasında kullanılan kolonlarda birebir aynı değerlerin olduğu satırlar için aynı değeri atamaktadır. Sonrasında ise bu değerden+1 değil, kaç adet tekrarlanan satır varsa o kadar bu satır numarasına eklemektedir. Bu nedenle atlanan sıra numaraları bulunmaktadır. Bu örnekte 2 kez aynı gelen bir örnek bulunmaktadır. Bu nedenle 4,4 değerinden sonra 6 değeri gelmiştir. 5 nolu sıra numarası gösterilmemektedir.\n",
    "\n",
    "Dense_Rank fonksiyonu ise Rank fonksiyonu ile oldukça benzeşmektedir. Tek farkı tekrarlanan satırlar sonrasında son satır numarasına +1 eklemektedir. Atlanan sıra numarası bulunmamaktadır. Bu örnekte Rank satırında görülmeyen 5 sıra numarası yer almaktadır."
   ]
  }
 ],
 "metadata": {
  "kernelspec": {
   "display_name": "Python 3 (ipykernel)",
   "language": "python",
   "name": "python3"
  },
  "language_info": {
   "codemirror_mode": {
    "name": "ipython",
    "version": 3
   },
   "file_extension": ".py",
   "mimetype": "text/x-python",
   "name": "python",
   "nbconvert_exporter": "python",
   "pygments_lexer": "ipython3",
   "version": "3.9.12"
  }
 },
 "nbformat": 4,
 "nbformat_minor": 5
}
